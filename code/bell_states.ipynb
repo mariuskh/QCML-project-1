{
 "cells": [
  {
   "cell_type": "code",
   "execution_count": null,
   "id": "c19f30bf-3056-4a25-93bf-f745f587f633",
   "metadata": {},
   "outputs": [],
   "source": [
    "import numpy as np"
   ]
  },
  {
   "cell_type": "markdown",
   "id": "ae1f9413-edc8-43f2-8378-7e0ef65afb88",
   "metadata": {},
   "source": [
    "### Bell states with Numpy"
   ]
  },
  {
   "cell_type": "code",
   "execution_count": null,
   "id": "dd3c9099-947c-4bfd-9153-81b9678e3ae4",
   "metadata": {},
   "outputs": [],
   "source": [
    "# One-qubit basis\n",
    "def qubit_0():\n",
    "    return np.array([1, 0], dtype=np.complex128)\n",
    "def qubit_1():\n",
    "    return np.array([0, 1], dtype=np.complex128)\n",
    "\n",
    "# Two-qubit basis\n",
    "def qubit_00():\n",
    "    return np.kron(qubit_0(), qubit_0())\n",
    "def qubit_01():\n",
    "    return np.kron(qubit_0(), qubit_1())\n",
    "def qubit_10():\n",
    "    return np.kron(qubit_1(), qubit_0())\n",
    "def qubit_11():\n",
    "    return np.kron(qubit_1(), qubit_1())\n",
    "\n",
    "# One-qubit gates Identity and Hadamard\n",
    "I = np.array([[1, 0], [0, 1]])\n",
    "H = (1/np.sqrt(2))*np.array([[1, 1], [1, -1]])\n",
    "\n",
    "# Two-qubit gates CNOT and Hadamard\n",
    "CNOT= np.array([[1, 0, 0, 0], [0, 1, 0, 0], [0, 0, 0, 1], [0, 0, 1, 0]])\n",
    "H1 = np.kron(H, I)\n",
    "H2 = np.kron(I, H)"
   ]
  },
  {
   "cell_type": "code",
   "execution_count": null,
   "id": "f6140297-96f6-4c20-95eb-66bce93c2187",
   "metadata": {},
   "outputs": [],
   "source": [
    "# Bell states\n",
    "def bell_phi_plus():\n",
    "    #Apply Hadamard and CNOT on |00>\n",
    "    return CNOT@H1@qubit_00()\n",
    "def bell_phi_minus():\n",
    "    #Apply Hadamard and CNOT on |10>\n",
    "    return CNOT@H1@qubit_10()\n",
    "def bell_psi_plus():\n",
    "    #Apply Hadamard and CNOT on |01>\n",
    "    return CNOT@H1@qubit_01()\n",
    "def bell_psi_minus():\n",
    "    #Apply Hadamard and CNOT on |11>\n",
    "    return CNOT@H1@qubit_11()"
   ]
  },
  {
   "cell_type": "markdown",
   "id": "72914698-0110-4e40-891d-b463b526ebd7",
   "metadata": {},
   "source": [
    "### Bell states with qiskit"
   ]
  },
  {
   "cell_type": "code",
   "execution_count": null,
   "id": "bc304be2-a2bc-4abc-9e43-67a7f143f661",
   "metadata": {},
   "outputs": [],
   "source": [
    "import qiskit as qk\n",
    "n_qubits = 2\n",
    "n_cbits = 2\n",
    "\n",
    "def create_qc(n_q, n_c):\n",
    "    qreg = qk.QuantumRegister(n_q)\n",
    "    creg = qk.ClassicalRegister(n_c)\n",
    "    return qk.QuantumCircuit(qreg,creg)\n",
    "\n",
    "def qk_bell_phi_plus():\n",
    "    qc = create_qc(n_qubits, n_cbits)\n",
    "    #Apply Hadamard and CNOT on |00> (default)\n",
    "    qc.h(0)\n",
    "    qc.cx(0,1)\n",
    "    return qc\n",
    "def qk_bell_phi_minus():\n",
    "    qc = create_qc(n_qubits, n_cbits)\n",
    "    #Apply Hadamard and CNOT on |10>\n",
    "    qc.x(0) # Flip first qubit, so we have |10>\n",
    "    qc.h(0)\n",
    "    qc.cx(0,1)\n",
    "    return qc\n",
    "def qk_bell_psi_plus():\n",
    "    qc = create_qc(n_qubits, n_cbits)\n",
    "    #Apply Hadamard and CNOT on |01>\n",
    "    qc.x(1) # Flip second qubit, so we have |01>\n",
    "    qc.h(0)\n",
    "    qc.cx(0, 1)\n",
    "    return qc\n",
    "def qk_bell_psi_minus():\n",
    "    qc = create_qc(n_qubits, n_cbits)\n",
    "    #Apply Hadamard and CNOT on |11>\n",
    "    qc.x(qc.qubits) # Flip both qubits, so we have |11>\n",
    "    qc.h(0)\n",
    "    qc.cx(0,1)\n",
    "    return qc"
   ]
  },
  {
   "cell_type": "markdown",
   "id": "a1580bdc-0b8c-46e2-a3b9-2572697c4b18",
   "metadata": {},
   "source": [
    "### Measurements with numpy"
   ]
  },
  {
   "cell_type": "code",
   "execution_count": null,
   "id": "21312717-1c59-4eac-90da-772c39fe8164",
   "metadata": {},
   "outputs": [],
   "source": [
    "from collections import Counter\n",
    "def measure(state, n_shots=1):\n",
    "    probabilities = np.abs(state**2)\n",
    "    outcomes = np.arange(len(state))\n",
    "    # Perform ’measurement’ n_shots times\n",
    "    measured_outcomes = np.random.choice(outcomes, p=probabilities, size = n_shots)\n",
    "    # Organise the results in a dict\n",
    "    output = {}\n",
    "    counts = Counter(measured_outcomes) # Aggregate outcomes in Counter object\n",
    "    n_qubits = int(np.log2(len(state))) # Number of qubits to get the right binary format\n",
    "    for k in counts.keys():\n",
    "        output[format(k, f\"0{n_qubits}b\")] = counts[k]\n",
    "    return output\n"
   ]
  },
  {
   "cell_type": "markdown",
   "id": "b38ab5d0-7707-4dbc-bec0-7a3cd6dcd340",
   "metadata": {},
   "source": [
    "### Measurements with qiskit"
   ]
  },
  {
   "cell_type": "code",
   "execution_count": null,
   "id": "9d9c291c-5ba9-4afe-9718-05eb1959bc9c",
   "metadata": {},
   "outputs": [],
   "source": [
    "import qiskit_aer\n",
    "def qk_measure(qc, n_shots=1):\n",
    "    qc.measure(qc.qubits, qc.clbits) # Add measurement to all qubits in circuit\n",
    "    backend = qiskit_aer.Aer.get_backend(\"qasm_simulator\") # Initialize backend\n",
    "    job = backend.run(qc,shots=n_shots)\n",
    "    return job.result().get_counts(qc)"
   ]
  },
  {
   "cell_type": "markdown",
   "id": "4e02e1e8-8d5e-4486-bf8b-16bf37cc7bd4",
   "metadata": {},
   "source": [
    "### Demo"
   ]
  },
  {
   "cell_type": "code",
   "execution_count": null,
   "id": "a074551d-72a7-485e-8567-272742fe1b16",
   "metadata": {},
   "outputs": [],
   "source": [
    "# Numpy\n",
    "measure(bell_phi_plus(), 1000)"
   ]
  },
  {
   "cell_type": "code",
   "execution_count": null,
   "id": "d7908598-2f73-4f07-8531-3bf5d5777a97",
   "metadata": {},
   "outputs": [],
   "source": [
    "# Qiskit\n",
    "qk_measure(qk_bell_phi_plus(), 1000)"
   ]
  },
  {
   "cell_type": "markdown",
   "id": "7ac72749-3036-4da5-8784-73e220fc4d65",
   "metadata": {},
   "source": [
    "### Distinguish $|\\Phi_+\\rangle$ and $|\\Phi_-\\rangle$"
   ]
  },
  {
   "cell_type": "code",
   "execution_count": null,
   "id": "1b55fb3d-5ae3-4326-af7c-51ef8af77d00",
   "metadata": {},
   "outputs": [],
   "source": [
    "# Numpy\n",
    "measure(H1@H2@bell_phi_plus(), 1000)"
   ]
  },
  {
   "cell_type": "code",
   "execution_count": null,
   "id": "6c0d3977-e043-4e6f-ad04-6caef7eb32eb",
   "metadata": {},
   "outputs": [],
   "source": [
    "measure(H1@H2@bell_phi_minus(), 1000)"
   ]
  },
  {
   "cell_type": "code",
   "execution_count": null,
   "id": "0c60391d-ff59-4955-8f7d-7fc4c4f870b0",
   "metadata": {},
   "outputs": [],
   "source": [
    "# Qiskit\n",
    "s1 = qk_bell_phi_plus()\n",
    "s1.h(s1.qubits)\n",
    "qk_measure(s1, 1000)"
   ]
  },
  {
   "cell_type": "code",
   "execution_count": null,
   "id": "9da28604-4d48-4e05-ab5b-cbd3ea7fa69a",
   "metadata": {},
   "outputs": [],
   "source": [
    "s2 = qk_bell_phi_minus()\n",
    "s2.h(s2.qubits)\n",
    "qk_measure(s2, 1000)"
   ]
  }
 ],
 "metadata": {
  "kernelspec": {
   "display_name": "Python 3 (ipykernel)",
   "language": "python",
   "name": "python3"
  },
  "language_info": {
   "codemirror_mode": {
    "name": "ipython",
    "version": 3
   },
   "file_extension": ".py",
   "mimetype": "text/x-python",
   "name": "python",
   "nbconvert_exporter": "python",
   "pygments_lexer": "ipython3",
   "version": "3.12.1"
  }
 },
 "nbformat": 4,
 "nbformat_minor": 5
}
