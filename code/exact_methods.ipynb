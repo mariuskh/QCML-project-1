{
 "cells": [
  {
   "cell_type": "code",
   "execution_count": null,
   "id": "20ff9560-e37a-479c-9f71-3ebfcd6b741a",
   "metadata": {},
   "outputs": [],
   "source": [
    "import numpy as np\n",
    "import matplotlib.pyplot as plt"
   ]
  },
  {
   "cell_type": "markdown",
   "id": "6133d801-4a4d-4078-a118-742ebb5b9288",
   "metadata": {},
   "source": [
    "### Two-level system"
   ]
  },
  {
   "cell_type": "code",
   "execution_count": null,
   "id": "7371f451-e081-4c01-bfe1-cb0f0243ba16",
   "metadata": {},
   "outputs": [],
   "source": [
    "# One-qubit gates\n",
    "I = np.array([[1, 0], [0, 1]])\n",
    "Z = np.array([[1, 0], [0, -1]])\n",
    "X = np.array([[0, 1], [1, 0]])\n",
    "\n",
    "def hamiltonian_general_tls(lam):\n",
    "    # Basic params\n",
    "    E1 = 0\n",
    "    E2 = 4\n",
    "    V11 = 3\n",
    "    V22 = -V11\n",
    "    Vx = 0.2\n",
    "    #H_0 params\n",
    "    H_0_I = (E1 + E2)/2\n",
    "    H_0_Z= (E1 - E2)/2\n",
    "    #H_I params\n",
    "    H_I_I = (V11 + V22)/2\n",
    "    H_I_Z = (V11-V22)/2\n",
    "    H_I_X = Vx\n",
    "    #H_0 and H_I\n",
    "    H_0 = H_0_I*I + H_0_Z*Z\n",
    "    H_I = H_I_I*I + H_I_Z*Z + H_I_X*X\n",
    "    return H_0 + lam*H_I\n",
    "\n",
    "def solve_tls_vs_lambda(lam_max=1):\n",
    "    #Array of different interaction strengths\n",
    "    lam = np.linspace(0, lam_max, 100)\n",
    "    #Arrays to hold eigenvecs and eigenvals\n",
    "    eig_vals = np.zeros((2, len(lam)))\n",
    "    eig_vecs = np.zeros((2, 2, len(lam)), dtype = np.complex128)\n",
    "    \n",
    "    for i in range(len(lam)):\n",
    "        H = hamiltonian_general_tls(lam[i])\n",
    "        val, vec = np.linalg.eigh(H)\n",
    "        eig_vals[:, i] = val\n",
    "        eig_vecs[:, :, i] = vec\n",
    "    return lam, eig_vals, eig_vecs"
   ]
  },
  {
   "cell_type": "code",
   "execution_count": null,
   "id": "00f0c1c9-64c6-4761-8b7a-6099227b53a8",
   "metadata": {},
   "outputs": [],
   "source": [
    "### Simple demo\n",
    "lam, vals, vecs = solve_tls_vs_lambda(4/3)"
   ]
  },
  {
   "cell_type": "code",
   "execution_count": null,
   "id": "bd194a2d-52bf-4fcd-8824-19005a73542d",
   "metadata": {},
   "outputs": [],
   "source": [
    "plt.plot(lam, vals[0,:])\n",
    "plt.plot(lam, vals[1,:])"
   ]
  },
  {
   "cell_type": "markdown",
   "id": "e6c31847-4946-4129-8e94-e0c12135a38a",
   "metadata": {},
   "source": [
    "### Two-qubit system"
   ]
  },
  {
   "cell_type": "code",
   "execution_count": null,
   "id": "7ba9eb3f-38c1-4d8d-aea3-57c3080c2688",
   "metadata": {},
   "outputs": [],
   "source": [
    "# One-qubit gates\n",
    "I = np.array([[1, 0], [0, 1]])\n",
    "Z = np.array([[1, 0], [0, -1]])\n",
    "X = np.array([[0, 1], [1, 0]])\n",
    "# Two-qubit gates\n",
    "II = np.kron(I, I)\n",
    "ZI = np.kron(Z, I)\n",
    "IZ = np.kron(I, Z)\n",
    "ZZ = np.kron(Z, Z)\n",
    "XX = np.kron(X, X)\n",
    "\n",
    "def hamiltonian_two_qubits(lam):\n",
    "    #Basic params\n",
    "    E1 = 0.0\n",
    "    E2 = 2.5\n",
    "    E3 = 6.5\n",
    "    E4 = 7.0\n",
    "    Vx = 2.0\n",
    "    Vz = 3.0\n",
    "    #H_0 params\n",
    "    E_II = (E1 + E2 + E3 + E4)/4\n",
    "    E_ZI = (E1 + E2 - E3 - E4)/4\n",
    "    E_IZ = (E1 - E2 + E3 - E4)/4\n",
    "    E_ZZ = (E1 - E2 - E3 + E4)/4\n",
    "    #H_0 and H_I\n",
    "    H_0 = E_II*II + E_ZI*ZI + E_IZ*IZ + E_ZZ*ZZ\n",
    "    H_I = Vx*XX + Vz*ZZ\n",
    "    return H_0 + lam*H_I\n",
    "\n",
    "def solve_two_qubit_vs_lambda(lam_max=1):\n",
    "    #Array of different interaction strengths\n",
    "    lam = np.linspace(0, lam_max, 100)\n",
    "    #Arrays to hold eigenvecs and eigenvals\n",
    "    eig_vals = np.zeros((4, len(lam)))\n",
    "    eig_vecs = np.zeros((4, 4, len(lam)), dtype = np.complex128)\n",
    "    \n",
    "    for i in range(len(lam)):\n",
    "        H = hamiltonian_two_qubits(lam[i])\n",
    "        val, vec = np.linalg.eigh(H)\n",
    "        eig_vals[:, i] = val\n",
    "        eig_vecs[:, :, i] = vec\n",
    "    return lam, eig_vals, eig_vecs"
   ]
  },
  {
   "cell_type": "code",
   "execution_count": null,
   "id": "76e28745-4994-4116-b98c-132d126e12d4",
   "metadata": {},
   "outputs": [],
   "source": [
    "#Simple demo\n",
    "lam, vals, vecs = solve_two_qubit_vs_lambda(4/3)"
   ]
  },
  {
   "cell_type": "code",
   "execution_count": null,
   "id": "557da7e6-4585-479a-bd87-3aeabf237c94",
   "metadata": {},
   "outputs": [],
   "source": [
    "plt.plot(lam, vals[0,:])\n",
    "plt.plot(lam, vals[1,:])\n",
    "plt.plot(lam, vals[2,:])\n",
    "plt.plot(lam, vals[3,:])"
   ]
  },
  {
   "cell_type": "markdown",
   "id": "169f5500-dcee-4a1f-8725-f88455e67561",
   "metadata": {},
   "source": [
    "### Von Neumann entropy"
   ]
  },
  {
   "cell_type": "code",
   "execution_count": null,
   "id": "77dfdad8-157d-49a9-88f4-bb010fd2fedd",
   "metadata": {},
   "outputs": [],
   "source": [
    "# One-qubit basis, needed for partial trace\n",
    "def qubit_0():\n",
    "    return np.array([1, 0], dtype=np.complex128)\n",
    "def qubit_1():\n",
    "    return np.array([0, 1], dtype=np.complex128)\n",
    "\n",
    "def rho_vs_lambda(state_vs_lambda):\n",
    "    #Initialize matrix to hold density matrix for each lambda.\n",
    "    #Density matrix is 4x4 for the two-qubit system\n",
    "    rho = np.zeros((4, 4, len(state_vs_lambda[0, :])), dtype = np.complex128)\n",
    "    for i in range(len(state_vs_lambda[0, :])):\n",
    "        #Density matrix is outer product of state |psi>, i.e. rho = |psi><psi|.\n",
    "        #Second factor is bra-vector, i.e. conjugated.\n",
    "        rho[:, :, i] = np.outer(state_vs_lambda[:, i], state_vs_lambda[:, i].conj())\n",
    "    return rho\n",
    "\n",
    "def get_rho_A(rho):\n",
    "    #Calculate reduced density matrix, like rho_A = tr_B(rho).\n",
    "    b0 = np.kron(I, qubit_0())\n",
    "    b1 = np.kron(I, qubit_1())\n",
    "    return b0.conj()@rho@b0.T + b1.conj()@rho@b1.T\n",
    "\n",
    "def entropy_vs_lambda(rho_vs_lambda):\n",
    "    #Initialize 1D vector to hold entropy value at different lambda\n",
    "    entropy = np.zeros(len(rho_vs_lambda[0,0, :]), dtype = np.complex128)\n",
    "    for i in range(len(rho_vs_lambda[0,0, :])):\n",
    "        #Get the reduced density matrix of subsystem A\n",
    "        rho_A = get_rho_A(rho_vs_lambda[:, :, i])\n",
    "        #Get eigenvalues of rho_A\n",
    "        vals = np.linalg.eigvalsh(rho_A)\n",
    "        #Check that value is not 0 before adding to entropy, since log(0) is not defined.\n",
    "        for val in vals:\n",
    "            if val > 0.0001:\n",
    "                entropy[i] -= val*np.log2(val)\n",
    "    return entropy"
   ]
  },
  {
   "cell_type": "code",
   "execution_count": null,
   "id": "afcf704a-2490-4d82-9451-d5cded6eae19",
   "metadata": {},
   "outputs": [],
   "source": [
    "# Demo\n",
    "lam, vals, vecs = solve_two_qubit_vs_lambda(4/3)\n",
    "rho = rho_vs_lambda(vecs[:,0,:])\n",
    "entropy = entropy_vs_lambda(rho)"
   ]
  },
  {
   "cell_type": "code",
   "execution_count": null,
   "id": "b36d74ac-4f16-43e7-848d-458a1486b619",
   "metadata": {},
   "outputs": [],
   "source": [
    "plt.plot(lam, entropy)"
   ]
  },
  {
   "cell_type": "markdown",
   "id": "650233ab-3a67-4c19-b55a-c78c10211bd9",
   "metadata": {},
   "source": [
    "### Lipkin Model"
   ]
  },
  {
   "cell_type": "code",
   "execution_count": null,
   "id": "2b636779-4dc7-4cb3-bea7-50d4e5a5be6e",
   "metadata": {},
   "outputs": [],
   "source": [
    "def H_e(V):\n",
    "    return np.array([[-2, np.sqrt(6)*V, 0, 0], [np.sqrt(6)*V, 0, 0, np.sqrt(6)*V], [0, 0, 0, 0], [0,np.sqrt(6)*V, 0, 2]])\n",
    "\n",
    "def H_o(V):\n",
    "    return np.array([[-1, 3*V], [3*V, 1]])\n",
    "\n",
    "def solve_lipkin_energies_vs_lambda(lam_max=1):\n",
    "    #Array of different interaction strengths\n",
    "    lam = np.linspace(0, lam_max, 100)\n",
    "    #Arrays to hold eigenvals for H_e and H_o\n",
    "    eig_vals_e = np.zeros((4, len(lam)))\n",
    "    eig_vals_o = np.zeros((2, len(lam)))\n",
    "    \n",
    "    for i in range(len(lam)):\n",
    "        val_e = np.linalg.eigvalsh(H_e(lam[i]))\n",
    "        eig_vals_e[:, i] = val_e\n",
    "        val_o = np.linalg.eigvalsh(H_o(lam[i]))\n",
    "        eig_vals_o[:, i] = val_o\n",
    "    return lam, eig_vals_e, eig_vals_o"
   ]
  },
  {
   "cell_type": "code",
   "execution_count": null,
   "id": "4905bdcf-f456-4b99-8756-3fa5cd763a6b",
   "metadata": {},
   "outputs": [],
   "source": [
    "#Demo\n",
    "lam, vals_e, vals_o = solve_lipkin_energies_vs_lambda(4/3)"
   ]
  },
  {
   "cell_type": "code",
   "execution_count": null,
   "id": "a801d025-5bd1-4828-a45f-a5407b8244ad",
   "metadata": {},
   "outputs": [],
   "source": [
    "plt.plot(lam, vals_e[0,:])\n",
    "plt.plot(lam, vals_e[1,:])\n",
    "plt.plot(lam, vals_e[3,:])\n",
    "plt.plot(lam, vals_o[0,:])\n",
    "plt.plot(lam, vals_o[1,:])"
   ]
  }
 ],
 "metadata": {
  "kernelspec": {
   "display_name": "Python 3 (ipykernel)",
   "language": "python",
   "name": "python3"
  },
  "language_info": {
   "codemirror_mode": {
    "name": "ipython",
    "version": 3
   },
   "file_extension": ".py",
   "mimetype": "text/x-python",
   "name": "python",
   "nbconvert_exporter": "python",
   "pygments_lexer": "ipython3",
   "version": "3.12.1"
  }
 },
 "nbformat": 4,
 "nbformat_minor": 5
}
